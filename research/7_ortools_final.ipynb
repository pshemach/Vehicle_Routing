{
 "cells": [
  {
   "cell_type": "code",
   "execution_count": null,
   "metadata": {},
   "outputs": [
    {
     "ename": "",
     "evalue": "",
     "output_type": "error",
     "traceback": [
      "\u001b[1;31mRunning cells with '.vent (Python 3.12.7)' requires the ipykernel package.\n",
      "\u001b[1;31mRun the following command to install 'ipykernel' into the Python environment. \n",
      "\u001b[1;31mCommand: 'c:/Users/HP/Desktop/E-Vision-Projects/Vehicle_Routing/.vent/Scripts/python.exe -m pip install ipykernel -U --force-reinstall'"
     ]
    }
   ],
   "source": [
    "import pandas as pd\n",
    "import numpy as np\n",
    "from ortools.constraint_solver import pywrapcp, routing_enums_pb2"
   ]
  },
  {
   "cell_type": "code",
   "execution_count": null,
   "metadata": {},
   "outputs": [
    {
     "ename": "",
     "evalue": "",
     "output_type": "error",
     "traceback": [
      "\u001b[1;31mRunning cells with '.vent (Python 3.12.7)' requires the ipykernel package.\n",
      "\u001b[1;31mRun the following command to install 'ipykernel' into the Python environment. \n",
      "\u001b[1;31mCommand: 'c:/Users/HP/Desktop/E-Vision-Projects/Vehicle_Routing/.vent/Scripts/python.exe -m pip install ipykernel -U --force-reinstall'"
     ]
    }
   ],
   "source": [
    "distance_matrix = [\n",
    "    # fmt: off\n",
    "      [0, 548, 776, 696, 582, 274, 502, 194, 308, 194, 536, 502, 388, 354, 468, 776, 662],\n",
    "      [548, 0, 684, 308, 194, 502, 730, 354, 696, 742, 1084, 594, 480, 674, 1016, 868, 1210],\n",
    "      [776, 684, 0, 992, 878, 502, 274, 810, 468, 742, 400, 1278, 1164, 1130, 788, 1552, 754],\n",
    "      [696, 308, 992, 0, 114, 650, 878, 502, 844, 890, 1232, 514, 628, 822, 1164, 560, 1358],\n",
    "      [582, 194, 878, 114, 0, 536, 764, 388, 730, 776, 1118, 400, 514, 708, 1050, 674, 1244],\n",
    "      [274, 502, 502, 650, 536, 0, 228, 308, 194, 240, 582, 776, 662, 628, 514, 1050, 708],\n",
    "      [502, 730, 274, 878, 764, 228, 0, 536, 194, 468, 354, 1004, 890, 856, 514, 1278, 480],\n",
    "      [194, 354, 810, 502, 388, 308, 536, 0, 342, 388, 730, 468, 354, 320, 662, 742, 856],\n",
    "      [308, 696, 468, 844, 730, 194, 194, 342, 0, 274, 388, 810, 696, 662, 320, 1084, 514],\n",
    "      [194, 742, 742, 890, 776, 240, 468, 388, 274, 0, 342, 536, 422, 388, 274, 810, 468],\n",
    "      [536, 1084, 400, 1232, 1118, 582, 354, 730, 388, 342, 0, 878, 764, 730, 388, 1152, 354],\n",
    "      [502, 594, 1278, 514, 400, 776, 1004, 468, 810, 536, 878, 0, 114, 308, 650, 274, 844],\n",
    "      [388, 480, 1164, 628, 514, 662, 890, 354, 696, 422, 764, 114, 0, 194, 536, 388, 730],\n",
    "      [354, 674, 1130, 822, 708, 628, 856, 320, 662, 388, 730, 308, 194, 0, 342, 422, 536],\n",
    "      [468, 1016, 788, 1164, 1050, 514, 514, 662, 320, 274, 388, 650, 536, 342, 0, 764, 194],\n",
    "      [776, 868, 1552, 560, 674, 1050, 1278, 742, 1084, 810, 1152, 274, 388, 422, 764, 0, 798],\n",
    "      [662, 1210, 754, 1358, 1244, 708, 480, 856, 514, 468, 354, 844, 730, 536, 194, 798, 0],\n",
    "    # fmt: on\n",
    "]\n",
    "\n",
    "shop_demands = [0, 1, 1, 2, 4, 2, 4, 8, 8, 1, 2, 1, 2, 4, 4, 8, 8]\n",
    "\n",
    "vehicle_capacities = [25, 25, 30, 20, 20, 30]\n",
    "\n",
    "depot = 0\n",
    "\n",
    "vehicle_restricted_roads = {\n",
    "    0: [(3, 4)],  # Vehicle 0 should avoid edge 3 -> 4\n",
    "    1: [(1, 2), (2, 1)],  # Vehicle 1 should avoid edges 1 -> 2 and 2 -> 1\n",
    "}\n",
    "\n",
    "vehicle_restricted_locations = {3: [1]}\n",
    "\n",
    "restricted_roads = [(3, 4), (4, 3)]\n",
    "\n",
    "same_route_location = [[1, 6]]"
   ]
  },
  {
   "cell_type": "code",
   "execution_count": 46,
   "metadata": {},
   "outputs": [],
   "source": [
    "def create_data_model(\n",
    "    distance_matrix,\n",
    "    shop_demands,\n",
    "    vehicle_capacities,\n",
    "    depot,\n",
    "    vehicle_restricted_locations=None,\n",
    "    vehicle_restricted_roads=None,\n",
    "    same_route_location=None,\n",
    "):\n",
    "    data = {}\n",
    "\n",
    "    data[\"distance_matrix\"] = distance_matrix\n",
    "    data[\"shop_demands\"] = shop_demands\n",
    "    data[\"vehicle_capacities\"] = vehicle_capacities\n",
    "    data[\"depot\"] = depot\n",
    "    data[\"vehicle_restricted_locations\"] = vehicle_restricted_locations\n",
    "    data[\"vehicle_restricted_roads\"] = vehicle_restricted_roads\n",
    "    data[\"same_route_location\"] = same_route_location\n",
    "    data[\"num_vehicles\"] = len(vehicle_capacities)\n",
    "\n",
    "    return data"
   ]
  },
  {
   "cell_type": "code",
   "execution_count": 47,
   "metadata": {},
   "outputs": [],
   "source": [
    "def get_solution(data, manager, routing, solution):\n",
    "\n",
    "    \"\"\"Prints solution on console.\"\"\"\n",
    "    print(f\"Objective: {solution.ObjectiveValue()}\")\n",
    "\n",
    "    total_distance = 0\n",
    "    total_load = 0\n",
    "\n",
    "    for vehicle_id in range(data['num_vehicles']):\n",
    "        index =  routing.Start(vehicle_id)\n",
    "        plan_output = f'Route for vehicle {vehicle_id}:\\n'\n",
    "\n",
    "        route_distance = 0\n",
    "        route_load = 0\n",
    "\n",
    "        while not routing.IsEnd(index):\n",
    "            node_index = manager.IndexToNode(index)\n",
    "            route_load += data['shop_demands'][node_index]\n",
    "            plan_output += f' {node_index} Load({route_load}) -> '\n",
    "            previous_index = index\n",
    "\n",
    "            index = solution.Value(routing.NextVar(index))\n",
    "            route_distance += routing.GetArcCostForVehicle(\n",
    "                previous_index, index, vehicle_id\n",
    "            )\n",
    "\n",
    "        plan_output += f\" {manager.IndexToNode(index)} Load({route_load})\\n\"\n",
    "        plan_output += f\"Distance of the route: {route_distance}km\\n\"\n",
    "        plan_output += f\"Load of the route: {route_load}\\n\"\n",
    "\n",
    "        print(plan_output)\n",
    "        total_distance += route_distance\n",
    "        total_load += route_load\n",
    "\n",
    "    print(f\"Total distance of all routes: {total_distance}m\")\n",
    "    print(f\"Total load of all routes: {total_load}\")\n",
    "    "
   ]
  },
  {
   "cell_type": "code",
   "execution_count": 48,
   "metadata": {},
   "outputs": [],
   "source": [
    "# Instantiate the data problem.\n",
    "data = create_data_model(\n",
    "    distance_matrix=distance_matrix,\n",
    "    shop_demands=shop_demands,\n",
    "    vehicle_capacities=vehicle_capacities,\n",
    "    depot=depot,\n",
    "    vehicle_restricted_locations=vehicle_restricted_locations,\n",
    ")\n",
    "\n",
    "# Create the routing index manager.\n",
    "manager = pywrapcp.RoutingIndexManager(\n",
    "    len(data[\"distance_matrix\"]), data[\"num_vehicles\"], data[\"depot\"]\n",
    ")\n",
    "\n",
    "# Create Routing Model.\n",
    "routing = pywrapcp.RoutingModel(manager)"
   ]
  },
  {
   "cell_type": "code",
   "execution_count": 49,
   "metadata": {},
   "outputs": [],
   "source": [
    "# Define cost of each arc for each vehicle.\n",
    "def create_vehicle_cost_callback(vehicle_id, data, manager):\n",
    "    \"\"\"Returns a transit callback that accounts for vehicle-specific and general restrictions.\"\"\"\n",
    "\n",
    "    def transit_callback(from_index, to_index):\n",
    "        from_node = manager.IndexToNode(from_index)\n",
    "        to_node = manager.IndexToNode(to_index)\n",
    "\n",
    "        # Check if the road is restricted specifically for the given vehicle\n",
    "        if (from_node, to_node) in data.get(\"vehicle_restricted_roads\", {}).get(\n",
    "            vehicle_id, []\n",
    "        ):\n",
    "            return int(1e6)  # High cost to avoid this edge for this vehicle\n",
    "        \n",
    "        # Check if the road is restricted generally for all vehicles\n",
    "        if (from_node, to_node) in data.get(\"restricted_roads\", []):\n",
    "            return int(1e6)  # High cost to avoid this edge for all vehicles\n",
    "\n",
    "        # Default distance from the distance matrix\n",
    "        return data[\"distance_matrix\"][from_node][to_node]\n",
    "\n",
    "    return transit_callback"
   ]
  },
  {
   "cell_type": "code",
   "execution_count": 50,
   "metadata": {},
   "outputs": [],
   "source": [
    "# Register vehicle-specific transit callbacks\n",
    "for vehicle_id in range(data[\"num_vehicles\"]):\n",
    "    transit_callback = create_vehicle_cost_callback(vehicle_id, data, manager)\n",
    "    transit_callback_index = routing.RegisterTransitCallback(transit_callback)\n",
    "    routing.SetArcCostEvaluatorOfVehicle(transit_callback_index, vehicle_id)"
   ]
  },
  {
   "cell_type": "code",
   "execution_count": 51,
   "metadata": {},
   "outputs": [
    {
     "data": {
      "text/plain": [
       "True"
      ]
     },
     "execution_count": 51,
     "metadata": {},
     "output_type": "execute_result"
    }
   ],
   "source": [
    "# Add Capacity constraint.\n",
    "def demand_callback(from_index):\n",
    "    \"\"\"Returns the demand of the node.\"\"\"\n",
    "    from_node = manager.IndexToNode(from_index)\n",
    "    return data[\"demands\"][from_node]\n",
    "\n",
    "\n",
    "demand_callback_index = routing.RegisterUnaryTransitCallback(demand_callback)\n",
    "routing.AddDimensionWithVehicleCapacity(\n",
    "    demand_callback_index,\n",
    "    0,  # null capacity slack\n",
    "    data[\"vehicle_capacities\"],  # vehicle maximum capacities\n",
    "    True,  # start cumul to zero\n",
    "    \"Capacity\",\n",
    ")"
   ]
  },
  {
   "cell_type": "code",
   "execution_count": 52,
   "metadata": {},
   "outputs": [],
   "source": [
    "# Add Distance constraint.\n",
    "dimension_name = \"Distance\"\n",
    "routing.AddDimension(\n",
    "    transit_callback_index,\n",
    "    0,  # no slack\n",
    "    3000,  # vehicle maximum travel distance\n",
    "    True,  # start cumul to zero\n",
    "    dimension_name,\n",
    ")\n",
    "distance_dimension = routing.GetDimensionOrDie(dimension_name)\n",
    "distance_dimension.SetGlobalSpanCostCoefficient(100)"
   ]
  },
  {
   "cell_type": "code",
   "execution_count": 53,
   "metadata": {},
   "outputs": [
    {
     "name": "stdout",
     "output_type": "stream",
     "text": [
      "Loactions for same route not provided.!\n"
     ]
    }
   ],
   "source": [
    "# Define Transportation Requests.\n",
    "if data[\"same_route_location\"] is not None:\n",
    "    for request in data[\"same_route_location\"]:\n",
    "        pickup_index = manager.NodeToIndex(request[0])\n",
    "        delivery_index = manager.NodeToIndex(request[1])\n",
    "        routing.solver().Add(\n",
    "            routing.VehicleVar(pickup_index) == routing.VehicleVar(delivery_index)\n",
    "        )\n",
    "else:\n",
    "    print(\"Loactions for same route not provided.!\")"
   ]
  },
  {
   "cell_type": "code",
   "execution_count": 54,
   "metadata": {},
   "outputs": [],
   "source": [
    "# Avoid specific locations for specific vehicles\n",
    "if data[\"vehicle_restricted_locations\"] is not None:  # {vehicle_id: [location_ids]}\n",
    "    for vehicle_id, locations in data[\"vehicle_restricted_locations\"].items():\n",
    "        for location in locations:\n",
    "            index = manager.NodeToIndex(location)\n",
    "            routing.solver().Add(routing.VehicleVar(index) != vehicle_id)\n",
    "\n",
    "else:\n",
    "    print(\"Vehicle-specific restricted locations not provided.!\")"
   ]
  },
  {
   "cell_type": "code",
   "execution_count": 55,
   "metadata": {},
   "outputs": [],
   "source": [
    "# Setting first solution heuristic.\n",
    "search_parameters = pywrapcp.DefaultRoutingSearchParameters()\n",
    "search_parameters.first_solution_strategy = (\n",
    "    routing_enums_pb2.FirstSolutionStrategy.PARALLEL_CHEAPEST_INSERTION\n",
    ")"
   ]
  },
  {
   "cell_type": "code",
   "execution_count": 56,
   "metadata": {},
   "outputs": [],
   "source": [
    "# Solve the problem.\n",
    "solution = routing.SolveWithParameters(search_parameters)"
   ]
  },
  {
   "cell_type": "code",
   "execution_count": 57,
   "metadata": {},
   "outputs": [
    {
     "name": "stdout",
     "output_type": "stream",
     "text": [
      "Objective: 0\n",
      "Route for vehicle 0:\n",
      " 0 Load(0) ->  16 Load(8) ->  15 Load(16) ->  14 Load(20) ->  13 Load(24) ->  12 Load(26) ->  11 Load(27) ->  10 Load(29) ->  9 Load(30) ->  8 Load(38) ->  7 Load(46) ->  6 Load(50) ->  5 Load(52) ->  4 Load(56) ->  3 Load(58) ->  2 Load(59) ->  1 Load(60) ->  0 Load(60)\n",
      "Distance of the route: 0km\n",
      "Load of the route: 60\n",
      "\n",
      "Route for vehicle 1:\n",
      " 0 Load(0) ->  0 Load(0)\n",
      "Distance of the route: 0km\n",
      "Load of the route: 0\n",
      "\n",
      "Route for vehicle 2:\n",
      " 0 Load(0) ->  0 Load(0)\n",
      "Distance of the route: 0km\n",
      "Load of the route: 0\n",
      "\n",
      "Route for vehicle 3:\n",
      " 0 Load(0) ->  0 Load(0)\n",
      "Distance of the route: 0km\n",
      "Load of the route: 0\n",
      "\n",
      "Route for vehicle 4:\n",
      " 0 Load(0) ->  0 Load(0)\n",
      "Distance of the route: 0km\n",
      "Load of the route: 0\n",
      "\n",
      "Route for vehicle 5:\n",
      " 0 Load(0) ->  0 Load(0)\n",
      "Distance of the route: 0km\n",
      "Load of the route: 0\n",
      "\n",
      "Total distance of all routes: 0m\n",
      "Total load of all routes: 60\n"
     ]
    }
   ],
   "source": [
    "if solution:\n",
    "    get_solution(data, manager, routing, solution)"
   ]
  },
  {
   "cell_type": "code",
   "execution_count": null,
   "metadata": {},
   "outputs": [],
   "source": []
  }
 ],
 "metadata": {
  "kernelspec": {
   "display_name": ".vent",
   "language": "python",
   "name": "python3"
  },
  "language_info": {
   "codemirror_mode": {
    "name": "ipython",
    "version": 3
   },
   "file_extension": ".py",
   "mimetype": "text/x-python",
   "name": "python",
   "nbconvert_exporter": "python",
   "pygments_lexer": "ipython3",
   "version": "3.12.7"
  }
 },
 "nbformat": 4,
 "nbformat_minor": 2
}
