{
 "cells": [
  {
   "cell_type": "code",
   "execution_count": 1,
   "metadata": {},
   "outputs": [],
   "source": [
    "import networkx as nx\n",
    "from vrpy import VehicleRoutingProblem"
   ]
  },
  {
   "cell_type": "code",
   "execution_count": 2,
   "metadata": {},
   "outputs": [],
   "source": [
    "# Step 1: Define the distance matrix\n",
    "distance_matrix = [\n",
    "    [0, 10, 15, 20, 25],  # Distances from depot (node 0) to other nodes\n",
    "    [10, 0, 35, 25, 30],  # Distances from node 1\n",
    "    [15, 35, 0, 30, 20],  # Distances from node 2\n",
    "    [20, 25, 30, 0, 15],  # Distances from node 3\n",
    "    [25, 30, 20, 15, 0],  # Distances from node 4\n",
    "]\n",
    "\n",
    "# Demands for each location (index 0 is depot with zero demand)\n",
    "demands = [0, 10, 15, 20, 25]\n",
    "\n",
    "# Vehicle capacities\n",
    "vehicle_capacities = [30, 40]"
   ]
  },
  {
   "cell_type": "code",
   "execution_count": 3,
   "metadata": {},
   "outputs": [],
   "source": [
    "# Step 2: Create a directed graph\n",
    "G = nx.DiGraph()"
   ]
  },
  {
   "cell_type": "code",
   "execution_count": 4,
   "metadata": {},
   "outputs": [],
   "source": [
    "# Add nodes with demands\n",
    "for i, demand in enumerate(demands):\n",
    "    G.add_node(i, demand=demand)"
   ]
  },
  {
   "cell_type": "code",
   "execution_count": 6,
   "metadata": {},
   "outputs": [
    {
     "data": {
      "text/plain": [
       "<networkx.classes.digraph.DiGraph at 0x2ad665ebc90>"
      ]
     },
     "execution_count": 6,
     "metadata": {},
     "output_type": "execute_result"
    }
   ],
   "source": [
    "G"
   ]
  },
  {
   "cell_type": "code",
   "execution_count": 7,
   "metadata": {},
   "outputs": [],
   "source": [
    "# Add edges based on the distance matrix\n",
    "num_nodes = len(distance_matrix)\n",
    "for i in range(num_nodes):\n",
    "    for j in range(num_nodes):\n",
    "        if i != j:  # No self-loops\n",
    "            G.add_edge(i, j, cost=distance_matrix[i][j])"
   ]
  },
  {
   "cell_type": "code",
   "execution_count": 11,
   "metadata": {},
   "outputs": [],
   "source": [
    "# Add Source and Sink nodes\n",
    "G.add_node(\"Source\", demand=0)\n",
    "G.add_node(\"Sink\", demand=0)"
   ]
  },
  {
   "cell_type": "code",
   "execution_count": 12,
   "metadata": {},
   "outputs": [],
   "source": [
    "# Add edges from Source to all other nodes (except Sink)\n",
    "for i in range(1, num_nodes):\n",
    "    G.add_edge(\"Source\", i, cost=0)"
   ]
  },
  {
   "cell_type": "code",
   "execution_count": 13,
   "metadata": {},
   "outputs": [],
   "source": [
    "# Add edges from all nodes (except Source) to Sink\n",
    "for i in range(1, num_nodes):\n",
    "    G.add_edge(i, \"Sink\", cost=0)"
   ]
  },
  {
   "cell_type": "code",
   "execution_count": 14,
   "metadata": {},
   "outputs": [
    {
     "name": "stderr",
     "output_type": "stream",
     "text": [
      "WARNING:vrpy.checks:Source not connected to 0\n",
      "WARNING:vrpy.checks:0 not connected to Sink\n"
     ]
    }
   ],
   "source": [
    "# Step 3: Initialize the VRP\n",
    "problem = VehicleRoutingProblem(G)"
   ]
  },
  {
   "cell_type": "code",
   "execution_count": null,
   "metadata": {},
   "outputs": [],
   "source": []
  }
 ],
 "metadata": {
  "kernelspec": {
   "display_name": ".venv",
   "language": "python",
   "name": "python3"
  },
  "language_info": {
   "codemirror_mode": {
    "name": "ipython",
    "version": 3
   },
   "file_extension": ".py",
   "mimetype": "text/x-python",
   "name": "python",
   "nbconvert_exporter": "python",
   "pygments_lexer": "ipython3",
   "version": "3.11.5"
  }
 },
 "nbformat": 4,
 "nbformat_minor": 2
}
