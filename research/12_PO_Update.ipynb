{
 "cells": [
  {
   "cell_type": "code",
   "execution_count": 1,
   "id": "b44b215f",
   "metadata": {},
   "outputs": [],
   "source": [
    "import pandas as pd"
   ]
  },
  {
   "cell_type": "code",
   "execution_count": 2,
   "id": "cce2f9df",
   "metadata": {},
   "outputs": [],
   "source": [
    "file_path = '../data/test/07-03-2025-PO.csv'"
   ]
  },
  {
   "cell_type": "code",
   "execution_count": 3,
   "id": "92301c4b",
   "metadata": {},
   "outputs": [],
   "source": [
    "def load_df(file_path):\n",
    "    df = pd.read_csv(file_path)\n",
    "    df = df.dropna(axis=1)\n",
    "    df = df.drop_duplicates(subset='CODE')\n",
    "    if df['CODE'].dtype in ['float', 'int', 'int64']:\n",
    "        df['CODE'] = df['CODE'].astype(int)\n",
    "        df['CODE'] = df['CODE'].astype(str)\n",
    "    return df"
   ]
  },
  {
   "cell_type": "code",
   "execution_count": 4,
   "id": "a778c9ec",
   "metadata": {},
   "outputs": [],
   "source": [
    "data = load_df(file_path)"
   ]
  },
  {
   "cell_type": "code",
   "execution_count": 5,
   "id": "db014896",
   "metadata": {},
   "outputs": [
    {
     "name": "stdout",
     "output_type": "stream",
     "text": [
      "Index(['CODE', 'SALE'], dtype='object')\n",
      "(23, 2)\n"
     ]
    }
   ],
   "source": [
    "print(data.columns)\n",
    "print(data.shape)"
   ]
  },
  {
   "cell_type": "code",
   "execution_count": 6,
   "id": "5d2bc2c0",
   "metadata": {},
   "outputs": [
    {
     "name": "stdout",
     "output_type": "stream",
     "text": [
      "<class 'pandas.core.frame.DataFrame'>\n",
      "RangeIndex: 23 entries, 0 to 22\n",
      "Data columns (total 2 columns):\n",
      " #   Column  Non-Null Count  Dtype  \n",
      "---  ------  --------------  -----  \n",
      " 0   CODE    23 non-null     object \n",
      " 1   SALE    23 non-null     float64\n",
      "dtypes: float64(1), object(1)\n",
      "memory usage: 496.0+ bytes\n"
     ]
    }
   ],
   "source": [
    "data.info()"
   ]
  },
  {
   "cell_type": "code",
   "execution_count": 7,
   "id": "e21ef81c",
   "metadata": {},
   "outputs": [
    {
     "data": {
      "text/plain": [
       "466742.17"
      ]
     },
     "execution_count": 7,
     "metadata": {},
     "output_type": "execute_result"
    }
   ],
   "source": [
    "data['SALE'].sum()"
   ]
  },
  {
   "cell_type": "code",
   "execution_count": 8,
   "id": "795693c7",
   "metadata": {},
   "outputs": [],
   "source": [
    "master_data = pd.read_csv('../data/master/master_gps_data.csv')"
   ]
  },
  {
   "cell_type": "code",
   "execution_count": 9,
   "id": "1ab217b8",
   "metadata": {},
   "outputs": [
    {
     "name": "stdout",
     "output_type": "stream",
     "text": [
      "Index(['CODE', 'LOCATION', 'ADDRESS', 'LATITUDE', 'LONGITUDE', 'BRAND',\n",
      "       'DISTRICT'],\n",
      "      dtype='object')\n",
      "(650, 7)\n"
     ]
    }
   ],
   "source": [
    "print(master_data.columns)\n",
    "print(master_data.shape)"
   ]
  },
  {
   "cell_type": "code",
   "execution_count": 10,
   "id": "743a33a2",
   "metadata": {},
   "outputs": [
    {
     "name": "stdout",
     "output_type": "stream",
     "text": [
      "Index(['CODE', 'SALE', 'LOCATION', 'ADDRESS', 'LATITUDE', 'LONGITUDE', 'BRAND',\n",
      "       'DISTRICT'],\n",
      "      dtype='object')\n",
      "(23, 8)\n"
     ]
    }
   ],
   "source": [
    "\"\"\"Add LOCATION,ADDRESS,LATITUDE,LONGITUDE,BRAND columns from master_data to data for relevant CODE\"\"\"\n",
    "\n",
    "data_enriched = pd.merge(\n",
    "    data,\n",
    "    master_data[['CODE', 'LOCATION', 'ADDRESS', 'LATITUDE', 'LONGITUDE', 'BRAND', 'DISTRICT']],\n",
    "    on='CODE',\n",
    "    how='left'\n",
    ")\n",
    "\n",
    "# Show result\n",
    "print(data_enriched.columns)\n",
    "print(data_enriched.shape)"
   ]
  },
  {
   "cell_type": "code",
   "execution_count": 1,
   "id": "8aa6be81",
   "metadata": {},
   "outputs": [],
   "source": [
    "import pandas as pd\n",
    "\n",
    "MASTER_PATH = '../data/master/master_gps_data.csv'\n",
    "\n",
    "def get_enriched_data(file_path: str) -> pd.DataFrame:\n",
    "    # Load the primary data\n",
    "    df = pd.read_csv(file_path)\n",
    "    df = df.dropna(axis=1)\n",
    "    df = df.drop_duplicates(subset='CODE')\n",
    "    \n",
    "    if df['CODE'].dtype in ['float', 'int', 'int64']:\n",
    "        df['CODE'] = df['CODE'].astype(int)\n",
    "        df['CODE'] = df['CODE'].astype(str)\n",
    "\n",
    "    # Load the master data\n",
    "    master_df = pd.read_csv(MASTER_PATH)\n",
    "\n",
    "    # Merge with master data on CODE\n",
    "    enriched_df = pd.merge(\n",
    "        df,\n",
    "        master_df[['CODE', 'LOCATION', 'ADDRESS', 'LATITUDE', 'LONGITUDE', 'BRAND', 'DISTRICT']],\n",
    "        on='CODE',\n",
    "        how='left'\n",
    "    )\n",
    "\n",
    "    return enriched_df"
   ]
  },
  {
   "cell_type": "code",
   "execution_count": 2,
   "id": "6546057f",
   "metadata": {},
   "outputs": [],
   "source": [
    "day = '03-03-2025'"
   ]
  },
  {
   "cell_type": "code",
   "execution_count": 3,
   "id": "e59e2d09",
   "metadata": {},
   "outputs": [
    {
     "data": {
      "text/plain": [
       "(457, 9)"
      ]
     },
     "execution_count": 3,
     "metadata": {},
     "output_type": "execute_result"
    }
   ],
   "source": [
    "# Example usage\n",
    "file_path = f'../data/test/{day}-PO.csv'\n",
    "save_path = f'../data/test/orders/{day}-PO.csv'\n",
    "\n",
    "final_df = get_enriched_data(file_path)\n",
    "final_df['DATE']= day\n",
    "\n",
    "final_df.shape"
   ]
  },
  {
   "cell_type": "code",
   "execution_count": 4,
   "id": "1e35a093",
   "metadata": {},
   "outputs": [],
   "source": [
    "final_df.to_csv(save_path, index=False)"
   ]
  },
  {
   "cell_type": "code",
   "execution_count": null,
   "id": "d79350bf",
   "metadata": {},
   "outputs": [],
   "source": []
  }
 ],
 "metadata": {
  "kernelspec": {
   "display_name": "venv",
   "language": "python",
   "name": "python3"
  },
  "language_info": {
   "codemirror_mode": {
    "name": "ipython",
    "version": 3
   },
   "file_extension": ".py",
   "mimetype": "text/x-python",
   "name": "python",
   "nbconvert_exporter": "python",
   "pygments_lexer": "ipython3",
   "version": "3.11.0"
  }
 },
 "nbformat": 4,
 "nbformat_minor": 5
}
